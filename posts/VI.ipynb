{
 "cells": [
  {
   "cell_type": "raw",
   "metadata": {},
   "source": [
    "---\n",
    "title: \"VI\"\n",
    "author: \"김진실\"\n",
    "date: \"01/22/2024\"\n",
    "---"
   ]
  },
  {
   "cell_type": "markdown",
   "metadata": {},
   "source": [
    "`-` 사용법\n",
    "\n",
    "- vi 파일명.txt : 새로운 txt 파일 생성 또는 기존 txt 파일 열기\n",
    "- i : 편집모드\n",
    "- esc : 명령모드\n",
    "- :wq : 저장하고 나오기\n",
    "- :q : 나오기\n",
    "    - 수정하고 저장하지 않은 상태에서는 경고 메시지 뜸 $\\to$ :q! : 무시하고 나가기"
   ]
  },
  {
   "cell_type": "markdown",
   "metadata": {},
   "source": [
    "`-` 명령모드\n",
    "\n",
    "- 줄 맨 처음에 커서를 두고 dd : 줄 삭제\n",
    "- home : 줄의 처음으로\n",
    "- end : 줄의 끝으로\n",
    "- b : 단어의 처음으로\n",
    "- e : 단어의 끝으로\n",
    "- /{단어} : ctrl+f\n",
    "    - n : 다음 해당 단어로 이동\n",
    "    - shift + n : 이전 해당 단어로 이동"
   ]
  }
 ],
 "metadata": {
  "language_info": {
   "name": "python"
  }
 },
 "nbformat": 4,
 "nbformat_minor": 2
}
